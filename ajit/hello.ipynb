{
 "cells": [
  {
   "cell_type": "code",
   "execution_count": 2,
   "metadata": {},
   "outputs": [
    {
     "data": {
      "text/plain": [
       "\"Hey dude, how's it going?\""
      ]
     },
     "execution_count": 2,
     "metadata": {},
     "output_type": "execute_result"
    }
   ],
   "source": [
    "from magentic import prompt, OpenaiChatModel\n",
    "from typing import Optional, List, Dict\n",
    "from dataclasses import dataclass\n",
    "\n",
    "\n",
    "@prompt('Add more \"dude\"ness to: {phrase}')\n",
    "def dudeify(phrase: str) -> str: ...  # No function body as this is never executed\n",
    "\n",
    "\n",
    "dudeify(\"Hello, how are you?\")\n",
    "# \"Hey, dude! What's up? How's it going, my man?\""
   ]
  },
  {
   "cell_type": "code",
   "execution_count": 3,
   "metadata": {},
   "outputs": [
    {
     "data": {
      "text/plain": [
       "[['A major cyberattack on global financial systems, disrupting banking operations worldwide.',\n",
       "  ScenarioQuantifiers(gdp_change=-2.0, inflation_change=0.5, unemployment_change=1.0, interest_rate_change=0.25, stock_market_change=-5.0)],\n",
       " ['A large-scale natural disaster, such as a supervolcano eruption or massive earthquake, affecting multiple countries.',\n",
       "  ScenarioQuantifiers(gdp_change=-3.0, inflation_change=4.0, unemployment_change=2.0, interest_rate_change=1.0, stock_market_change=-7.0)],\n",
       " ['Outbreak of a new, highly transmissible and deadly pandemic that leads to prolonged global lockdowns.',\n",
       "  ScenarioQuantifiers(gdp_change=-10.0, inflation_change=5.0, unemployment_change=15.0, interest_rate_change=-2.0, stock_market_change=-25.0)],\n",
       " ['Sudden collapse of a major economy, causing widespread financial turmoil and recession in interconnected economies.',\n",
       "  ScenarioQuantifiers(gdp_change=-4.5, inflation_change=3.2, unemployment_change=1.8, interest_rate_change=-0.5, stock_market_change=-10.0)],\n",
       " ['Breakthrough in artificial intelligence leading to massive unemployment due to automation across multiple sectors.',\n",
       "  ScenarioQuantifiers(gdp_change=-1.5, inflation_change=-0.5, unemployment_change=5.0, interest_rate_change=-0.5, stock_market_change=-3.0)],\n",
       " ['A geopolitical conflict involving major world powers, resulting in widespread economic sanctions and blocked trade routes.',\n",
       "  ScenarioQuantifiers(gdp_change=-3.5, inflation_change=4.5, unemployment_change=2.5, interest_rate_change=1.5, stock_market_change=-6.0)],\n",
       " ['Unexpected rapid depletion of key natural resources such as freshwater or energy resources, leading to global shortages.',\n",
       "  ScenarioQuantifiers(gdp_change=-4.5, inflation_change=8.0, unemployment_change=2.5, interest_rate_change=3.0, stock_market_change=-7.0)],\n",
       " ['Discovery of a new and cheaper form of clean energy, drastically reducing reliance on fossil fuels and transforming the energy sector.',\n",
       "  ScenarioQuantifiers(gdp_change=3.5, inflation_change=-1.0, unemployment_change=-0.5, interest_rate_change=-0.5, stock_market_change=10.0)],\n",
       " ['Significant escalation of climate change impacts causing extensive damage to infrastructure and agriculture worldwide.',\n",
       "  ScenarioQuantifiers(gdp_change=-3.5, inflation_change=2.0, unemployment_change=1.5, interest_rate_change=1.0, stock_market_change=-4.0)],\n",
       " ['An abrupt policy shift by a major central bank leading to a global financial crisis.',\n",
       "  ScenarioQuantifiers(gdp_change=-5.0, inflation_change=2.0, unemployment_change=3.0, interest_rate_change=2.0, stock_market_change=-20.0)]]"
      ]
     },
     "execution_count": 3,
     "metadata": {},
     "output_type": "execute_result"
    }
   ],
   "source": [
    "@prompt('List some extreme, but possible world events that would have a significant impact on the economy')\n",
    "def generate() -> List[str]: ...\n",
    "\n",
    "@prompt('{scenario} \\n is this scenario plausible?')\n",
    "def validate(scenario: str) -> bool: ...\n",
    "\n",
    "@dataclass\n",
    "class ScenarioQuantifiers:\n",
    "    gdp_change: float\n",
    "    inflation_change: float\n",
    "    unemployment_change: float\n",
    "    interest_rate_change: float\n",
    "    stock_market_change: float\n",
    "\n",
    "@prompt(\"\"\"{scenario}\n",
    "        \n",
    "        Predict the change of these variables in percent if the above scenario happens:\n",
    "        \n",
    "        - GDP\n",
    "        - Inflation\n",
    "        - Unemployment\n",
    "        - Interest Rate\n",
    "        - Stock Market\n",
    "        \"\"\")\n",
    "def predict(scenario: str) -> ScenarioQuantifiers: ...\n",
    "\n",
    "[[scenario, predict(scenario)] for scenario in generate() if validate(scenario)]"
   ]
  }
 ],
 "metadata": {
  "kernelspec": {
   "display_name": ".venv",
   "language": "python",
   "name": "python3"
  },
  "language_info": {
   "codemirror_mode": {
    "name": "ipython",
    "version": 3
   },
   "file_extension": ".py",
   "mimetype": "text/x-python",
   "name": "python",
   "nbconvert_exporter": "python",
   "pygments_lexer": "ipython3",
   "version": "3.10.6"
  }
 },
 "nbformat": 4,
 "nbformat_minor": 2
}
